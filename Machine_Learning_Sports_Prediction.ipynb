{
  "nbformat": 4,
  "nbformat_minor": 0,
  "metadata": {
    "colab": {
      "provenance": []
    },
    "kernelspec": {
      "name": "python3",
      "display_name": "Python 3"
    },
    "language_info": {
      "name": "python"
    }
  },
  "cells": [
    {
      "cell_type": "markdown",
      "source": [
        "# NBA Game Prediction\n",
        "\n",
        "This project is developed for predicting upcoming NBA games outcomes (W/L) using Machine Learning algorithms. For data gathering nba_api was used.\n",
        "\n",
        "**Features used in the ML algorithms**\n",
        "\n",
        "> Current season wins - how many games have been won this season before the observable game\n",
        "\n",
        "> Current season losses - how many games have been lost this season before the observable game\n",
        "\n",
        "> Previous season wins - sum of previous season wins\n",
        "\n",
        "> Previous season losses - sum of previous season losses\n",
        "\n",
        "> Season before last wins - sum of season before last wins\n",
        "\n",
        "> Season before last losses - sum of season before last losses\n",
        "\n",
        "> Home or away (1 - home, 0 - away) - if the observable game was played at home or away"
      ],
      "metadata": {
        "id": "OfOO9iJcnvzI"
      }
    },
    {
      "cell_type": "markdown",
      "source": [
        "**Mounting to Drive**"
      ],
      "metadata": {
        "id": "Rtw5r5nEml41"
      }
    },
    {
      "cell_type": "code",
      "source": [
        "from google.colab import drive\n",
        "\n",
        "# Mounting to GD\n",
        "drive.mount('/content/drive')\n",
        "\n",
        "import os\n",
        "os.chdir('/content/drive/My Drive/Colab Notebooks/NBA prediction/')"
      ],
      "metadata": {
        "colab": {
          "base_uri": "https://localhost:8080/"
        },
        "id": "GK3ow-somp-k",
        "outputId": "62fc8d20-d674-4ee6-b51e-0fb4930592a7"
      },
      "execution_count": 1,
      "outputs": [
        {
          "output_type": "stream",
          "name": "stdout",
          "text": [
            "Mounted at /content/drive\n"
          ]
        }
      ]
    },
    {
      "cell_type": "markdown",
      "source": [
        "**Imports**"
      ],
      "metadata": {
        "id": "8pezn6M0mZ_A"
      }
    },
    {
      "cell_type": "code",
      "source": [
        "!pip install nba_api"
      ],
      "metadata": {
        "id": "bWSUoAY5E1kM",
        "colab": {
          "base_uri": "https://localhost:8080/"
        },
        "outputId": "a2a477a1-b2e9-4f87-ae9f-61211a6adb87"
      },
      "execution_count": 2,
      "outputs": [
        {
          "output_type": "stream",
          "name": "stdout",
          "text": [
            "Collecting nba_api\n",
            "  Downloading nba_api-1.4.1-py3-none-any.whl (261 kB)\n",
            "\u001b[?25l     \u001b[90m━━━━━━━━━━━━━━━━━━━━━━━━━━━━━━━━━━━━━━━━\u001b[0m \u001b[32m0.0/261.7 kB\u001b[0m \u001b[31m?\u001b[0m eta \u001b[36m-:--:--\u001b[0m\r\u001b[2K     \u001b[91m━━━━━━━━━━━━━━━━━\u001b[0m\u001b[90m╺\u001b[0m\u001b[90m━━━━━━━━━━━━━━━━━━━━━━\u001b[0m \u001b[32m112.6/261.7 kB\u001b[0m \u001b[31m3.3 MB/s\u001b[0m eta \u001b[36m0:00:01\u001b[0m\r\u001b[2K     \u001b[90m━━━━━━━━━━━━━━━━━━━━━━━━━━━━━━━━━━━━━━━━\u001b[0m \u001b[32m261.7/261.7 kB\u001b[0m \u001b[31m4.4 MB/s\u001b[0m eta \u001b[36m0:00:00\u001b[0m\n",
            "\u001b[?25hRequirement already satisfied: certifi<2024.0.0,>=2023.7.22 in /usr/local/lib/python3.10/dist-packages (from nba_api) (2023.11.17)\n",
            "Requirement already satisfied: numpy<2.0.0,>=1.22.2 in /usr/local/lib/python3.10/dist-packages (from nba_api) (1.23.5)\n",
            "Requirement already satisfied: requests<3.0,>=2.31 in /usr/local/lib/python3.10/dist-packages (from nba_api) (2.31.0)\n",
            "Requirement already satisfied: charset-normalizer<4,>=2 in /usr/local/lib/python3.10/dist-packages (from requests<3.0,>=2.31->nba_api) (3.3.2)\n",
            "Requirement already satisfied: idna<4,>=2.5 in /usr/local/lib/python3.10/dist-packages (from requests<3.0,>=2.31->nba_api) (3.6)\n",
            "Requirement already satisfied: urllib3<3,>=1.21.1 in /usr/local/lib/python3.10/dist-packages (from requests<3.0,>=2.31->nba_api) (2.0.7)\n",
            "Installing collected packages: nba_api\n",
            "Successfully installed nba_api-1.4.1\n"
          ]
        }
      ]
    },
    {
      "cell_type": "code",
      "execution_count": 3,
      "metadata": {
        "id": "8vxyYsmcmJHH"
      },
      "outputs": [],
      "source": [
        "# Pandas\n",
        "import pandas as pd\n",
        "\n",
        "# NBA api\n",
        "from nba_api.stats.static import teams\n",
        "from nba_api.stats.endpoints import leaguegamefinder\n",
        "from nba_api.stats.endpoints import cumestatsteamgames\n",
        "from nba_api.stats.library.parameters import SeasonType\n",
        "from nba_api.stats.library.parameters import Season\n",
        "from nba_api.stats.endpoints import winprobabilitypbp\n",
        "\n",
        "# Datetime\n",
        "from datetime import date\n",
        "from datetime import timedelta\n",
        "\n",
        "# Time\n",
        "import time\n",
        "\n",
        "# sklearn\n",
        "import sklearn\n",
        "from sklearn.model_selection import train_test_split\n",
        "from sklearn.tree import DecisionTreeClassifier\n",
        "from sklearn.metrics  import f1_score,accuracy_score"
      ]
    },
    {
      "cell_type": "markdown",
      "source": [
        "# **Project Ideas**"
      ],
      "metadata": {
        "id": "IiW0axo-lQXG"
      }
    },
    {
      "cell_type": "markdown",
      "source": [
        "**Data from somewhere the mid 80s is not usable (missing values)**\n",
        "\n",
        "**See: [link](https://docs.google.com/spreadsheets/d/1J5Fk9F7-X7iiZWb-p9J5eHV_80dn7uD627ZNCfajTyY/edit#gid=724387784)**"
      ],
      "metadata": {
        "id": "9eFgd9swGog0"
      }
    },
    {
      "cell_type": "markdown",
      "source": [
        "**Previous Years Conference Ranking?? (Can be found under nba_api.teamyearbyyearstat)**"
      ],
      "metadata": {
        "id": "pi4N7Huelbd7"
      }
    },
    {
      "cell_type": "markdown",
      "source": [
        "**Home or away team can be found under nba_api.winprobabilitypbp (need to clarify available years)**"
      ],
      "metadata": {
        "id": "FnK_jG5upS2V"
      }
    },
    {
      "cell_type": "markdown",
      "source": [
        "**Features to pick**\n",
        "\n",
        "wins this season (home and away) \t | losses this season (home and away)  |\n",
        "\n",
        "last 2 year wins (home and away)     | last 2 year losses (home and away)  |\n",
        "\n",
        "previous year wins (home and away)   | previous year losses (home and away)|\n",
        "\n",
        "how many mvp players (home and away) | ranking this season (home and away) |\n",
        "\n",
        "home or away game (home and away) |  "
      ],
      "metadata": {
        "id": "20UiOdRerD78"
      }
    },
    {
      "cell_type": "code",
      "source": [
        "# Google Sheet keys and names where the data is held\n",
        "\n",
        "gsheetkeys = [\"1lv2-3WhrFHvNL1X5S7b-ipqARNKaaOkT0-DJPSwscs8\", \"1b7lS4X07tYRY_KCXZS7i6JQX7hY8vUnLHUZ1JRmAeLo\",\n",
        "              \"1xPsisR8NMg8coNMf0_3VipPAWKAdW89phLL7S5dKFqs\", \"1JOADxIyhpNDdO3gmY7aNReXUgqNZRa_ZBY_GR-oT-K4\", \"1j70bhwPsO-44BVlXuMWMwgvYH8p3iYsJbUw4VELrkgI\",\n",
        "              \"1mtAjjWnObMejnF4o26ATQwH0vwG58clnk8HBZyFbACQ\",\n",
        "              \"1yAO9YJ2o5hUVfuqjSKgycREhyVq-3lU-Eu2dZftQUtk\",\n",
        "              \"1wN2cWd9pW0oHVX156CtMVES47fYhlsL-QvUplL5l91c\", \"10rcJFymCTL2ngfzSpS79dcpzvOe5oocZjC-78e9Wl74\", \"1p0AnDfGH_UWQzdzuVGvpegoa9qq6y1cZnkwXMGwOfUM\",\n",
        "              \"1DnScQ8Vm8-kTQAlcRUagqG90yEGMqf5__gp9PmO-IEE\", \"1Elz4-Zy98L_6fINcqpWS5s6EW3s9oTs5FJmDKo5ihDA\", \"1hFRQTFdxpJK1LwYGEFJ4LOgAWIf0igKM2iymJxGlGrg\",\n",
        "              \"1_dGCmA-zGJ7MhDrQNlV_IoTMDL8w_qTgttyUpBseeRc\", \"1-nAx4To5U4_9kK9m76xGm1NZC7fvzi42LV8LUrQDRg0\", \"1EVLOnUqjov0J8KAjIHhi18mTvE95HGaurZ45qa8izEk\",\n",
        "              \"1DHKZV_rVgrQSjoJXs8YQC0Ku5ECjoWXOEhPaQaf6wCE\", \"1S5gKj8fXmtBaoGTlEaWBb0z3Zvvk0WKhyBmlffNSbu8\", \"1t8ooshG7ixX-FXR8RRY-kOdCYXvNhUQHZv3iip7ldfw\",\n",
        "              \"1frY1JfGAcrzD_UiO1TIY65yTg_dVXTI4sEvWARnTta0\", \"1bKF8JivyCT46wzgCiy3wFqgJ0kud26n3VMeROHudm8E\", \"1HwfT9T4vs8ddn4XjCGONX8uKsUxgeiGoMFsXG8ShBFE\",\n",
        "              \"1VClP32CCKtrKFEV56Y9YzcC7ApbyKTQ555-k8dC-j1c\", \"1qdPrE92kWcFTGPrFi-XLOR2hBa1_pZrpsIMQVcLeZYA\", \"1efI02TVgiKmNiIW6soOMf7H51XQ3_ycH5Mj3ExYm6Xk\",\n",
        "              \"1gojRc7Igdpw6M3TVesN4is-PB7924Cv_J_bWt6MNEb0\", \"1q9ve_zN2j5XEzMkAahEp2N5y6eqZFt4wIXasxIVlX7A\", \"1RfbIcqSXG1Eh4vfRwnr1kg_rhtYofciYTHa1r5G46WM\",\n",
        "              \"15hhZmljZDq1QYNshoX5_auqg7tiP9VrPfeNXYOK_sBg\", \"1LuORJk4XPerSDPMlmaWwiU_9ZUmvj3QktMEVUqKQ4YI\", \"1PHXdA7QcQPqgu9bEOoarNPbvMEOWhGPnlQXZtTM6eqc\",\n",
        "              \"1rJ46fT86RJYrSK5weR0qnQjqL9MLPKvy7dUaukPuqqA\", \"1KXYUr3mnuWIGa66LHjkrvDYbqSwx2_r9mWf2Lpa6IB8\", \"1BmSDiRfm9QQqDfd33FUUlixHSrxjzzlEjhGv-5V1iuo\"]\n",
        "sheet_names = [\"2023_nba_games_testing\", \"2022_nba_games_testing\", \"2021_nba_games_testing\", \"2020_nba_games_testing\", \"2019_nba_games_testing\",\n",
        "               \"2018_nba_games_testing\",\n",
        "               \"2017_nba_games_testing\",\n",
        "               \"2016_nba_games_testing\", \"2015_nba_games_testing\", \"2014_nba_games_testing\", \"2013_nba_games_testing\", \"2012_nba_games_testing\",\n",
        "               \"2011_nba_games_testing\", \"2010_nba_games_testing\", \"2009_nba_games_testing\", \"2008_nba_games_testing\", \"2007_nba_games_testing\",\n",
        "               \"2006_nba_games_testing\", \"2005_nba_games_testing\", \"2004_nba_games_testing\", \"2003_nba_games_testing\", \"2002_nba_games_testing\",\n",
        "               \"2001_nba_games_testing\", \"2000_nba_games_testing\", \"1999_nba_games_testing\", \"1998_nba_games_testing\", \"1997_nba_games_testing\",\n",
        "               \"1996_nba_games_testing\", \"1995_nba_games_testing\", \"1994_nba_games_testing\", \"1993_nba_games_testing\", \"1992_nba_games_testing\",\n",
        "               \"1991_nba_games_testing\", \"1990_nba_games_testing\"]"
      ],
      "metadata": {
        "id": "xa7TmbHKooqg"
      },
      "execution_count": 4,
      "outputs": []
    },
    {
      "cell_type": "code",
      "source": [
        "# Reading the data from Google Sheets\n",
        "\n",
        "data = pd.DataFrame()\n",
        "\n",
        "for i in range(len(sheet_names)):\n",
        "    gsheetkey = gsheetkeys[i]\n",
        "    sheet_name = sheet_names[i]\n",
        "    url = f'https://docs.google.com/spreadsheet/ccc?key={gsheetkey}&output=xlsx'\n",
        "    try:\n",
        "        sheet_data = pd.read_excel(url, sheet_name=sheet_name)\n",
        "    except RuntimeError:\n",
        "        continue\n",
        "    data = pd.concat([data, sheet_data])"
      ],
      "metadata": {
        "id": "-cz4cL2zvJHW"
      },
      "execution_count": 6,
      "outputs": []
    },
    {
      "cell_type": "code",
      "source": [
        "data.drop([\"Unnamed: 0\"], axis=1, inplace=True)"
      ],
      "metadata": {
        "id": "SzhfUiWKV_mk"
      },
      "execution_count": 7,
      "outputs": []
    },
    {
      "cell_type": "code",
      "source": [
        "# Needed for picking the same amount\n",
        "# of positive and negative cases\n",
        "\n",
        "data[\"game_outcome\"].value_counts()"
      ],
      "metadata": {
        "colab": {
          "base_uri": "https://localhost:8080/"
        },
        "id": "_PIA4yDWiCc0",
        "outputId": "98d45c0e-60d1-4714-d27c-128474b1047e"
      },
      "execution_count": 12,
      "outputs": [
        {
          "output_type": "execute_result",
          "data": {
            "text/plain": [
              "1    6178\n",
              "0    5892\n",
              "Name: game_outcome, dtype: int64"
            ]
          },
          "metadata": {},
          "execution_count": 12
        }
      ]
    },
    {
      "cell_type": "code",
      "source": [
        "# Creating train and test sets\n",
        "\n",
        "negative=data[data['game_outcome']==0]\n",
        "#positive=data[data['game_outcome']==1]\n",
        "#negative=data[data['game_outcome']==0].sample(n=positive.shape[0])\n",
        "positive=data[data['game_outcome']==1].sample(n=negative.shape[0])\n",
        "final=pd.concat([positive,negative])\n",
        "final = final.sample(frac=1)\n",
        "\n",
        "y = final[\"game_outcome\"]\n",
        "final.drop([\"game_outcome\"], axis=1, inplace=True)\n",
        "X = final\n",
        "\n",
        "X_train, X_test, y_train, y_test = train_test_split(X, y, test_size=0.25, random_state=2)"
      ],
      "metadata": {
        "id": "OdTxYVkJb5io"
      },
      "execution_count": 10,
      "outputs": []
    },
    {
      "cell_type": "code",
      "source": [
        "final.head()"
      ],
      "metadata": {
        "colab": {
          "base_uri": "https://localhost:8080/",
          "height": 206
        },
        "id": "Kct0vnplekFd",
        "outputId": "71b7f3e6-68e5-4986-b88c-fd26137a6211"
      },
      "execution_count": 11,
      "outputs": [
        {
          "output_type": "execute_result",
          "data": {
            "text/plain": [
              "     current_season_wins  current_season_losses  previous_season_wins  \\\n",
              "132                    8                      4                    61   \n",
              "181                   45                     34                    35   \n",
              "78                     0                      1                    30   \n",
              "163                   13                     25                    19   \n",
              "270                   18                     37                    29   \n",
              "\n",
              "     previous_season_losses  season_before_last_wins  \\\n",
              "132                      21                       42   \n",
              "181                      55                       30   \n",
              "78                       52                       36   \n",
              "163                      63                       15   \n",
              "270                      53                       25   \n",
              "\n",
              "     season_before_last_losses  home_or_away  \n",
              "132                         40             1  \n",
              "181                         57             1  \n",
              "78                          46             0  \n",
              "163                         67             1  \n",
              "270                         57             1  "
            ],
            "text/html": [
              "\n",
              "  <div id=\"df-78760ffa-53b6-4143-bf97-57a4ffa34158\" class=\"colab-df-container\">\n",
              "    <div>\n",
              "<style scoped>\n",
              "    .dataframe tbody tr th:only-of-type {\n",
              "        vertical-align: middle;\n",
              "    }\n",
              "\n",
              "    .dataframe tbody tr th {\n",
              "        vertical-align: top;\n",
              "    }\n",
              "\n",
              "    .dataframe thead th {\n",
              "        text-align: right;\n",
              "    }\n",
              "</style>\n",
              "<table border=\"1\" class=\"dataframe\">\n",
              "  <thead>\n",
              "    <tr style=\"text-align: right;\">\n",
              "      <th></th>\n",
              "      <th>current_season_wins</th>\n",
              "      <th>current_season_losses</th>\n",
              "      <th>previous_season_wins</th>\n",
              "      <th>previous_season_losses</th>\n",
              "      <th>season_before_last_wins</th>\n",
              "      <th>season_before_last_losses</th>\n",
              "      <th>home_or_away</th>\n",
              "    </tr>\n",
              "  </thead>\n",
              "  <tbody>\n",
              "    <tr>\n",
              "      <th>132</th>\n",
              "      <td>8</td>\n",
              "      <td>4</td>\n",
              "      <td>61</td>\n",
              "      <td>21</td>\n",
              "      <td>42</td>\n",
              "      <td>40</td>\n",
              "      <td>1</td>\n",
              "    </tr>\n",
              "    <tr>\n",
              "      <th>181</th>\n",
              "      <td>45</td>\n",
              "      <td>34</td>\n",
              "      <td>35</td>\n",
              "      <td>55</td>\n",
              "      <td>30</td>\n",
              "      <td>57</td>\n",
              "      <td>1</td>\n",
              "    </tr>\n",
              "    <tr>\n",
              "      <th>78</th>\n",
              "      <td>0</td>\n",
              "      <td>1</td>\n",
              "      <td>30</td>\n",
              "      <td>52</td>\n",
              "      <td>36</td>\n",
              "      <td>46</td>\n",
              "      <td>0</td>\n",
              "    </tr>\n",
              "    <tr>\n",
              "      <th>163</th>\n",
              "      <td>13</td>\n",
              "      <td>25</td>\n",
              "      <td>19</td>\n",
              "      <td>63</td>\n",
              "      <td>15</td>\n",
              "      <td>67</td>\n",
              "      <td>1</td>\n",
              "    </tr>\n",
              "    <tr>\n",
              "      <th>270</th>\n",
              "      <td>18</td>\n",
              "      <td>37</td>\n",
              "      <td>29</td>\n",
              "      <td>53</td>\n",
              "      <td>25</td>\n",
              "      <td>57</td>\n",
              "      <td>1</td>\n",
              "    </tr>\n",
              "  </tbody>\n",
              "</table>\n",
              "</div>\n",
              "    <div class=\"colab-df-buttons\">\n",
              "\n",
              "  <div class=\"colab-df-container\">\n",
              "    <button class=\"colab-df-convert\" onclick=\"convertToInteractive('df-78760ffa-53b6-4143-bf97-57a4ffa34158')\"\n",
              "            title=\"Convert this dataframe to an interactive table.\"\n",
              "            style=\"display:none;\">\n",
              "\n",
              "  <svg xmlns=\"http://www.w3.org/2000/svg\" height=\"24px\" viewBox=\"0 -960 960 960\">\n",
              "    <path d=\"M120-120v-720h720v720H120Zm60-500h600v-160H180v160Zm220 220h160v-160H400v160Zm0 220h160v-160H400v160ZM180-400h160v-160H180v160Zm440 0h160v-160H620v160ZM180-180h160v-160H180v160Zm440 0h160v-160H620v160Z\"/>\n",
              "  </svg>\n",
              "    </button>\n",
              "\n",
              "  <style>\n",
              "    .colab-df-container {\n",
              "      display:flex;\n",
              "      gap: 12px;\n",
              "    }\n",
              "\n",
              "    .colab-df-convert {\n",
              "      background-color: #E8F0FE;\n",
              "      border: none;\n",
              "      border-radius: 50%;\n",
              "      cursor: pointer;\n",
              "      display: none;\n",
              "      fill: #1967D2;\n",
              "      height: 32px;\n",
              "      padding: 0 0 0 0;\n",
              "      width: 32px;\n",
              "    }\n",
              "\n",
              "    .colab-df-convert:hover {\n",
              "      background-color: #E2EBFA;\n",
              "      box-shadow: 0px 1px 2px rgba(60, 64, 67, 0.3), 0px 1px 3px 1px rgba(60, 64, 67, 0.15);\n",
              "      fill: #174EA6;\n",
              "    }\n",
              "\n",
              "    .colab-df-buttons div {\n",
              "      margin-bottom: 4px;\n",
              "    }\n",
              "\n",
              "    [theme=dark] .colab-df-convert {\n",
              "      background-color: #3B4455;\n",
              "      fill: #D2E3FC;\n",
              "    }\n",
              "\n",
              "    [theme=dark] .colab-df-convert:hover {\n",
              "      background-color: #434B5C;\n",
              "      box-shadow: 0px 1px 3px 1px rgba(0, 0, 0, 0.15);\n",
              "      filter: drop-shadow(0px 1px 2px rgba(0, 0, 0, 0.3));\n",
              "      fill: #FFFFFF;\n",
              "    }\n",
              "  </style>\n",
              "\n",
              "    <script>\n",
              "      const buttonEl =\n",
              "        document.querySelector('#df-78760ffa-53b6-4143-bf97-57a4ffa34158 button.colab-df-convert');\n",
              "      buttonEl.style.display =\n",
              "        google.colab.kernel.accessAllowed ? 'block' : 'none';\n",
              "\n",
              "      async function convertToInteractive(key) {\n",
              "        const element = document.querySelector('#df-78760ffa-53b6-4143-bf97-57a4ffa34158');\n",
              "        const dataTable =\n",
              "          await google.colab.kernel.invokeFunction('convertToInteractive',\n",
              "                                                    [key], {});\n",
              "        if (!dataTable) return;\n",
              "\n",
              "        const docLinkHtml = 'Like what you see? Visit the ' +\n",
              "          '<a target=\"_blank\" href=https://colab.research.google.com/notebooks/data_table.ipynb>data table notebook</a>'\n",
              "          + ' to learn more about interactive tables.';\n",
              "        element.innerHTML = '';\n",
              "        dataTable['output_type'] = 'display_data';\n",
              "        await google.colab.output.renderOutput(dataTable, element);\n",
              "        const docLink = document.createElement('div');\n",
              "        docLink.innerHTML = docLinkHtml;\n",
              "        element.appendChild(docLink);\n",
              "      }\n",
              "    </script>\n",
              "  </div>\n",
              "\n",
              "\n",
              "<div id=\"df-56e6861a-e585-4346-bf5e-d73525c47dbf\">\n",
              "  <button class=\"colab-df-quickchart\" onclick=\"quickchart('df-56e6861a-e585-4346-bf5e-d73525c47dbf')\"\n",
              "            title=\"Suggest charts\"\n",
              "            style=\"display:none;\">\n",
              "\n",
              "<svg xmlns=\"http://www.w3.org/2000/svg\" height=\"24px\"viewBox=\"0 0 24 24\"\n",
              "     width=\"24px\">\n",
              "    <g>\n",
              "        <path d=\"M19 3H5c-1.1 0-2 .9-2 2v14c0 1.1.9 2 2 2h14c1.1 0 2-.9 2-2V5c0-1.1-.9-2-2-2zM9 17H7v-7h2v7zm4 0h-2V7h2v10zm4 0h-2v-4h2v4z\"/>\n",
              "    </g>\n",
              "</svg>\n",
              "  </button>\n",
              "\n",
              "<style>\n",
              "  .colab-df-quickchart {\n",
              "      --bg-color: #E8F0FE;\n",
              "      --fill-color: #1967D2;\n",
              "      --hover-bg-color: #E2EBFA;\n",
              "      --hover-fill-color: #174EA6;\n",
              "      --disabled-fill-color: #AAA;\n",
              "      --disabled-bg-color: #DDD;\n",
              "  }\n",
              "\n",
              "  [theme=dark] .colab-df-quickchart {\n",
              "      --bg-color: #3B4455;\n",
              "      --fill-color: #D2E3FC;\n",
              "      --hover-bg-color: #434B5C;\n",
              "      --hover-fill-color: #FFFFFF;\n",
              "      --disabled-bg-color: #3B4455;\n",
              "      --disabled-fill-color: #666;\n",
              "  }\n",
              "\n",
              "  .colab-df-quickchart {\n",
              "    background-color: var(--bg-color);\n",
              "    border: none;\n",
              "    border-radius: 50%;\n",
              "    cursor: pointer;\n",
              "    display: none;\n",
              "    fill: var(--fill-color);\n",
              "    height: 32px;\n",
              "    padding: 0;\n",
              "    width: 32px;\n",
              "  }\n",
              "\n",
              "  .colab-df-quickchart:hover {\n",
              "    background-color: var(--hover-bg-color);\n",
              "    box-shadow: 0 1px 2px rgba(60, 64, 67, 0.3), 0 1px 3px 1px rgba(60, 64, 67, 0.15);\n",
              "    fill: var(--button-hover-fill-color);\n",
              "  }\n",
              "\n",
              "  .colab-df-quickchart-complete:disabled,\n",
              "  .colab-df-quickchart-complete:disabled:hover {\n",
              "    background-color: var(--disabled-bg-color);\n",
              "    fill: var(--disabled-fill-color);\n",
              "    box-shadow: none;\n",
              "  }\n",
              "\n",
              "  .colab-df-spinner {\n",
              "    border: 2px solid var(--fill-color);\n",
              "    border-color: transparent;\n",
              "    border-bottom-color: var(--fill-color);\n",
              "    animation:\n",
              "      spin 1s steps(1) infinite;\n",
              "  }\n",
              "\n",
              "  @keyframes spin {\n",
              "    0% {\n",
              "      border-color: transparent;\n",
              "      border-bottom-color: var(--fill-color);\n",
              "      border-left-color: var(--fill-color);\n",
              "    }\n",
              "    20% {\n",
              "      border-color: transparent;\n",
              "      border-left-color: var(--fill-color);\n",
              "      border-top-color: var(--fill-color);\n",
              "    }\n",
              "    30% {\n",
              "      border-color: transparent;\n",
              "      border-left-color: var(--fill-color);\n",
              "      border-top-color: var(--fill-color);\n",
              "      border-right-color: var(--fill-color);\n",
              "    }\n",
              "    40% {\n",
              "      border-color: transparent;\n",
              "      border-right-color: var(--fill-color);\n",
              "      border-top-color: var(--fill-color);\n",
              "    }\n",
              "    60% {\n",
              "      border-color: transparent;\n",
              "      border-right-color: var(--fill-color);\n",
              "    }\n",
              "    80% {\n",
              "      border-color: transparent;\n",
              "      border-right-color: var(--fill-color);\n",
              "      border-bottom-color: var(--fill-color);\n",
              "    }\n",
              "    90% {\n",
              "      border-color: transparent;\n",
              "      border-bottom-color: var(--fill-color);\n",
              "    }\n",
              "  }\n",
              "</style>\n",
              "\n",
              "  <script>\n",
              "    async function quickchart(key) {\n",
              "      const quickchartButtonEl =\n",
              "        document.querySelector('#' + key + ' button');\n",
              "      quickchartButtonEl.disabled = true;  // To prevent multiple clicks.\n",
              "      quickchartButtonEl.classList.add('colab-df-spinner');\n",
              "      try {\n",
              "        const charts = await google.colab.kernel.invokeFunction(\n",
              "            'suggestCharts', [key], {});\n",
              "      } catch (error) {\n",
              "        console.error('Error during call to suggestCharts:', error);\n",
              "      }\n",
              "      quickchartButtonEl.classList.remove('colab-df-spinner');\n",
              "      quickchartButtonEl.classList.add('colab-df-quickchart-complete');\n",
              "    }\n",
              "    (() => {\n",
              "      let quickchartButtonEl =\n",
              "        document.querySelector('#df-56e6861a-e585-4346-bf5e-d73525c47dbf button');\n",
              "      quickchartButtonEl.style.display =\n",
              "        google.colab.kernel.accessAllowed ? 'block' : 'none';\n",
              "    })();\n",
              "  </script>\n",
              "</div>\n",
              "    </div>\n",
              "  </div>\n"
            ]
          },
          "metadata": {},
          "execution_count": 11
        }
      ]
    },
    {
      "cell_type": "markdown",
      "source": [
        "# **AI models**"
      ],
      "metadata": {
        "id": "bCwiaNWDg4av"
      }
    },
    {
      "cell_type": "markdown",
      "source": [
        "**Neural Network**"
      ],
      "metadata": {
        "id": "AyMsIgzRg2RS"
      }
    },
    {
      "cell_type": "code",
      "source": [
        "from sklearn.neural_network import MLPClassifier\n",
        "\n",
        "mlp = MLPClassifier(hidden_layer_sizes=(32, 32, 32, 32, 32, 32, 32, 32), activation='relu', solver='adam', max_iter=15000)\n",
        "mlp.fit(X_train,y_train)\n",
        "\n",
        "predict_train = mlp.predict(X_train)\n",
        "predict_test = mlp.predict(X_test)"
      ],
      "metadata": {
        "id": "bLl8k9igYpWZ"
      },
      "execution_count": 13,
      "outputs": []
    },
    {
      "cell_type": "code",
      "source": [
        "from sklearn.metrics import classification_report,confusion_matrix\n",
        "print(confusion_matrix(y_train,predict_train))\n",
        "print(classification_report(y_train,predict_train))"
      ],
      "metadata": {
        "colab": {
          "base_uri": "https://localhost:8080/"
        },
        "id": "4M-ou4hmYuyU",
        "outputId": "8116f5e2-144c-4784-ac82-2a760a9062bb"
      },
      "execution_count": 14,
      "outputs": [
        {
          "output_type": "stream",
          "name": "stdout",
          "text": [
            "[[3163 1217]\n",
            " [1162 3296]]\n",
            "              precision    recall  f1-score   support\n",
            "\n",
            "           0       0.73      0.72      0.73      4380\n",
            "           1       0.73      0.74      0.73      4458\n",
            "\n",
            "    accuracy                           0.73      8838\n",
            "   macro avg       0.73      0.73      0.73      8838\n",
            "weighted avg       0.73      0.73      0.73      8838\n",
            "\n"
          ]
        }
      ]
    },
    {
      "cell_type": "code",
      "source": [
        "print(confusion_matrix(y_test,predict_test))\n",
        "print(classification_report(y_test,predict_test))"
      ],
      "metadata": {
        "colab": {
          "base_uri": "https://localhost:8080/"
        },
        "id": "P_7uMUdXDdm_",
        "outputId": "dcd78af2-24ba-4af4-a3f7-3eab6c2477c8"
      },
      "execution_count": null,
      "outputs": [
        {
          "output_type": "stream",
          "name": "stdout",
          "text": [
            "[[826 670]\n",
            " [586 864]]\n",
            "              precision    recall  f1-score   support\n",
            "\n",
            "           0       0.58      0.55      0.57      1496\n",
            "           1       0.56      0.60      0.58      1450\n",
            "\n",
            "    accuracy                           0.57      2946\n",
            "   macro avg       0.57      0.57      0.57      2946\n",
            "weighted avg       0.57      0.57      0.57      2946\n",
            "\n"
          ]
        }
      ]
    },
    {
      "cell_type": "markdown",
      "source": [
        "**XGBoost Classifier**"
      ],
      "metadata": {
        "id": "LbAvdl3KWkBV"
      }
    },
    {
      "cell_type": "code",
      "source": [
        "from xgboost.sklearn import XGBClassifier\n",
        "\n",
        "XGB = XGBClassifier()\n",
        "XGB.fit(X_train,y_train)\n",
        "\n",
        "pred=XGB.predict(X_test)\n",
        "\n",
        "print(accuracy_score(y_test,pred))\n",
        "print(f1_score(y_test,pred))"
      ],
      "metadata": {
        "colab": {
          "base_uri": "https://localhost:8080/"
        },
        "id": "6MhvHdlwWmr1",
        "outputId": "ba2cd28e-7773-4dea-cdb7-643bc8f19cbe"
      },
      "execution_count": 15,
      "outputs": [
        {
          "output_type": "stream",
          "name": "stdout",
          "text": [
            "0.5902919212491514\n",
            "0.5942857142857143\n"
          ]
        }
      ]
    },
    {
      "cell_type": "markdown",
      "source": [
        "**LGBM Classifier**"
      ],
      "metadata": {
        "id": "hzQZbCXBWIX1"
      }
    },
    {
      "cell_type": "code",
      "source": [
        "from lightgbm import LGBMClassifier\n",
        "\n",
        "LGBM = LGBMClassifier()\n",
        "LGBM.fit(X_train,y_train)\n",
        "\n",
        "pred=LGBM.predict(X_test)\n",
        "\n",
        "print(accuracy_score(y_test,pred))\n",
        "print(f1_score(y_test,pred))"
      ],
      "metadata": {
        "colab": {
          "base_uri": "https://localhost:8080/"
        },
        "id": "S-IyLUsRWMVP",
        "outputId": "9c11df3e-c885-47bc-e5c5-841cc941e3e6"
      },
      "execution_count": 16,
      "outputs": [
        {
          "output_type": "stream",
          "name": "stdout",
          "text": [
            "[LightGBM] [Info] Number of positive: 4458, number of negative: 4380\n",
            "[LightGBM] [Info] Auto-choosing row-wise multi-threading, the overhead of testing was 0.000567 seconds.\n",
            "You can set `force_row_wise=true` to remove the overhead.\n",
            "And if memory is not enough, you can set `force_col_wise=true`.\n",
            "[LightGBM] [Info] Total Bins 380\n",
            "[LightGBM] [Info] Number of data points in the train set: 8838, number of used features: 7\n",
            "[LightGBM] [Info] [binary:BoostFromScore]: pavg=0.504413 -> initscore=0.017652\n",
            "[LightGBM] [Info] Start training from score 0.017652\n",
            "0.59979633401222\n",
            "0.6073926073926075\n"
          ]
        }
      ]
    },
    {
      "cell_type": "markdown",
      "source": [
        "**Gradient Boosting Classifier**"
      ],
      "metadata": {
        "id": "3u2uf0H8WFdY"
      }
    },
    {
      "cell_type": "code",
      "source": [
        "from sklearn.ensemble import GradientBoostingClassifier\n",
        "\n",
        "GB = GradientBoostingClassifier()\n",
        "GB.fit(X_train,y_train)\n",
        "\n",
        "pred=GB.predict(X_test)\n",
        "\n",
        "print(accuracy_score(y_test,pred))\n",
        "print(f1_score(y_test,pred))"
      ],
      "metadata": {
        "colab": {
          "base_uri": "https://localhost:8080/"
        },
        "id": "jFCHRtO9WLKh",
        "outputId": "8aa413ca-f194-4855-9cb0-978ca9bfb9fd"
      },
      "execution_count": 17,
      "outputs": [
        {
          "output_type": "stream",
          "name": "stdout",
          "text": [
            "0.6130346232179226\n",
            "0.6143437077131259\n"
          ]
        }
      ]
    },
    {
      "cell_type": "markdown",
      "source": [
        "**Random Forest**"
      ],
      "metadata": {
        "id": "rztf9aYhWBbC"
      }
    },
    {
      "cell_type": "code",
      "source": [
        "from sklearn.ensemble import RandomForestClassifier\n",
        "\n",
        "RF = RandomForestClassifier()\n",
        "RF.fit(X_train,y_train)\n",
        "\n",
        "pred=RF.predict(X_test)\n",
        "\n",
        "print(accuracy_score(y_test,pred))\n",
        "print(f1_score(y_test,pred))"
      ],
      "metadata": {
        "colab": {
          "base_uri": "https://localhost:8080/"
        },
        "id": "pzVv55SoV5LW",
        "outputId": "b4c391df-41ec-49bd-8189-415d8cc789ab"
      },
      "execution_count": 18,
      "outputs": [
        {
          "output_type": "stream",
          "name": "stdout",
          "text": [
            "0.5855397148676171\n",
            "0.5811320754716982\n"
          ]
        }
      ]
    },
    {
      "cell_type": "markdown",
      "source": [
        "**Decision Tree**"
      ],
      "metadata": {
        "id": "fyiDfR8sVvjb"
      }
    },
    {
      "cell_type": "code",
      "source": [
        "from sklearn.tree import DecisionTreeClassifier\n",
        "\n",
        "DT = DecisionTreeClassifier()\n",
        "DT.fit(X_train,y_train)\n",
        "\n",
        "pred=DT.predict(X_test)\n",
        "\n",
        "print(accuracy_score(y_test,pred))\n",
        "print(f1_score(y_test,pred))"
      ],
      "metadata": {
        "colab": {
          "base_uri": "https://localhost:8080/"
        },
        "id": "sZYUzntmVupI",
        "outputId": "afb4093b-2ba2-4223-ce31-bd1a39d048d1"
      },
      "execution_count": 19,
      "outputs": [
        {
          "output_type": "stream",
          "name": "stdout",
          "text": [
            "0.5492192803801765\n",
            "0.5482993197278911\n"
          ]
        }
      ]
    },
    {
      "cell_type": "markdown",
      "source": [
        "**KNN**"
      ],
      "metadata": {
        "id": "kay20xvLVlst"
      }
    },
    {
      "cell_type": "code",
      "source": [
        "from sklearn.neighbors import KNeighborsClassifier\n",
        "\n",
        "KNN = KNeighborsClassifier()\n",
        "KNN.fit(X_train,y_train)\n",
        "\n",
        "pred=KNN.predict(X_test)\n",
        "\n",
        "print(accuracy_score(y_test,pred))\n",
        "print(f1_score(y_test,pred))"
      ],
      "metadata": {
        "colab": {
          "base_uri": "https://localhost:8080/"
        },
        "id": "mYmLwvimViAc",
        "outputId": "d56a2259-fd68-4aa7-db59-4b60c7d37cc3"
      },
      "execution_count": 20,
      "outputs": [
        {
          "output_type": "stream",
          "name": "stdout",
          "text": [
            "0.548540393754243\n",
            "0.5445205479452054\n"
          ]
        }
      ]
    },
    {
      "cell_type": "markdown",
      "source": [
        "**Stochastic Gradient Descent Classifier**"
      ],
      "metadata": {
        "id": "UjyXcPodVIr1"
      }
    },
    {
      "cell_type": "code",
      "source": [
        "from sklearn.linear_model import SGDClassifier\n",
        "\n",
        "SGDC = SGDClassifier()\n",
        "SGDC.fit(X_train,y_train)\n",
        "\n",
        "pred=SGDC.predict(X_test)\n",
        "\n",
        "print(accuracy_score(y_test,pred))\n",
        "print(f1_score(y_test,pred))"
      ],
      "metadata": {
        "colab": {
          "base_uri": "https://localhost:8080/"
        },
        "id": "EbMTOz4cVMe2",
        "outputId": "902edfcb-3c81-4136-bbf6-f7fece262e8c"
      },
      "execution_count": 21,
      "outputs": [
        {
          "output_type": "stream",
          "name": "stdout",
          "text": [
            "0.5071283095723014\n",
            "0.65738555922605\n"
          ]
        }
      ]
    },
    {
      "cell_type": "markdown",
      "source": [
        "**Naive Bayes**"
      ],
      "metadata": {
        "id": "lvNBXrhyUZcv"
      }
    },
    {
      "cell_type": "code",
      "source": [
        "from sklearn.naive_bayes import GaussianNB\n",
        "from sklearn.naive_bayes import MultinomialNB\n",
        "\n",
        "GNB = GaussianNB()\n",
        "MNB = MultinomialNB()\n",
        "\n",
        "GNB.fit(X_train,y_train)\n",
        "MNB.fit(X_train,y_train)\n",
        "\n",
        "\n",
        "pred_GNB=GNB.predict(X_test)\n",
        "pred_MNB=MNB.predict(X_test)\n",
        "\n",
        "print(accuracy_score(y_test,pred_GNB))\n",
        "print(f1_score(y_test,pred_GNB))\n",
        "print(accuracy_score(y_test,pred_MNB))\n",
        "print(f1_score(y_test,pred_MNB))"
      ],
      "metadata": {
        "colab": {
          "base_uri": "https://localhost:8080/"
        },
        "id": "_zqrqrLuUcFT",
        "outputId": "6bd83234-8633-4c8a-c1a8-a4c5f05d1a61"
      },
      "execution_count": 22,
      "outputs": [
        {
          "output_type": "stream",
          "name": "stdout",
          "text": [
            "0.5987780040733197\n",
            "0.604946524064171\n",
            "0.5916496945010183\n",
            "0.5977933801404214\n"
          ]
        }
      ]
    },
    {
      "cell_type": "markdown",
      "source": [
        "**Support Vector Machine**"
      ],
      "metadata": {
        "id": "N0xK_ZARUMgX"
      }
    },
    {
      "cell_type": "code",
      "source": [
        "from sklearn.svm import SVC\n",
        "\n",
        "SVM = SVC()\n",
        "SVM.fit(X_train,y_train)\n",
        "\n",
        "pred=SVM.predict(X_test)\n",
        "\n",
        "print(accuracy_score(y_test,pred))\n",
        "print(f1_score(y_test,pred))"
      ],
      "metadata": {
        "colab": {
          "base_uri": "https://localhost:8080/"
        },
        "id": "wSBEqaaqULKQ",
        "outputId": "8dcabec8-81d4-452b-943c-627e55e2e708"
      },
      "execution_count": 23,
      "outputs": [
        {
          "output_type": "stream",
          "name": "stdout",
          "text": [
            "0.5964019008825526\n",
            "0.6077202243483999\n"
          ]
        }
      ]
    },
    {
      "cell_type": "markdown",
      "source": [
        "**Logistic Regression**"
      ],
      "metadata": {
        "id": "hcCzn5hYTVoS"
      }
    },
    {
      "cell_type": "code",
      "source": [
        "from sklearn.linear_model import LogisticRegression\n",
        "\n",
        "LR = LogisticRegression()\n",
        "LR.fit(X_train,y_train)\n",
        "\n",
        "pred=LR.predict(X_test)\n",
        "\n",
        "print(accuracy_score(y_test,pred))\n",
        "print(f1_score(y_test,pred))"
      ],
      "metadata": {
        "colab": {
          "base_uri": "https://localhost:8080/"
        },
        "id": "ZBVHw38fTJZU",
        "outputId": "16588710-7971-416a-b1f9-f32b619ed411"
      },
      "execution_count": 24,
      "outputs": [
        {
          "output_type": "stream",
          "name": "stdout",
          "text": [
            "0.6137135098438561\n",
            "0.6199064796259186\n"
          ]
        }
      ]
    },
    {
      "cell_type": "markdown",
      "source": [
        "**DecisionTreeClassifier**"
      ],
      "metadata": {
        "id": "VOF3Z8UiTKGY"
      }
    },
    {
      "cell_type": "code",
      "source": [
        "DT = DecisionTreeClassifier()\n",
        "DT.fit(X_train,y_train)\n",
        "\n",
        "pred=DT.predict(X_test)\n",
        "\n",
        "print(accuracy_score(y_test,pred))\n",
        "print(f1_score(y_test,pred))"
      ],
      "metadata": {
        "colab": {
          "base_uri": "https://localhost:8080/"
        },
        "id": "OLnRi3J_SqDI",
        "outputId": "9d2abaa7-b85c-400a-8135-4c0630a0fa37"
      },
      "execution_count": 25,
      "outputs": [
        {
          "output_type": "stream",
          "name": "stdout",
          "text": [
            "0.5522742701968771\n",
            "0.5456424388563555\n"
          ]
        }
      ]
    },
    {
      "cell_type": "markdown",
      "source": [
        "# **Data Reading**"
      ],
      "metadata": {
        "id": "H_agKhA3gnXs"
      }
    },
    {
      "cell_type": "code",
      "source": [
        "# Creating a dictionary of team abbreviations\n",
        "# and team id's\n",
        "\n",
        "nba_teams = teams.get_teams()\n",
        "teams_abbreviations = {}\n",
        "\n",
        "for team in nba_teams:\n",
        "    teams_abbreviations[team.get(\"abbreviation\")] = str(team.get(\"id\"))\n",
        "\n",
        "print(teams_abbreviations)"
      ],
      "metadata": {
        "colab": {
          "base_uri": "https://localhost:8080/"
        },
        "id": "C9TrVQUHgMGj",
        "outputId": "43761427-f617-42e5-e0cf-19d91e8c56b9"
      },
      "execution_count": 26,
      "outputs": [
        {
          "output_type": "stream",
          "name": "stdout",
          "text": [
            "{'ATL': '1610612737', 'BOS': '1610612738', 'CLE': '1610612739', 'NOP': '1610612740', 'CHI': '1610612741', 'DAL': '1610612742', 'DEN': '1610612743', 'GSW': '1610612744', 'HOU': '1610612745', 'LAC': '1610612746', 'LAL': '1610612747', 'MIA': '1610612748', 'MIL': '1610612749', 'MIN': '1610612750', 'BKN': '1610612751', 'NYK': '1610612752', 'ORL': '1610612753', 'IND': '1610612754', 'PHI': '1610612755', 'PHX': '1610612756', 'POR': '1610612757', 'SAC': '1610612758', 'SAS': '1610612759', 'OKC': '1610612760', 'TOR': '1610612761', 'UTA': '1610612762', 'MEM': '1610612763', 'WAS': '1610612764', 'DET': '1610612765', 'CHA': '1610612766'}\n"
          ]
        }
      ]
    },
    {
      "cell_type": "code",
      "source": [
        "# Finds the given team abbreviation team id\n",
        "#\n",
        "# Return: team_id\n",
        "\n",
        "def FindTeamId(team_abbreviation):\n",
        "    return teams_abbreviations.get(team_abbreviation)"
      ],
      "metadata": {
        "id": "2sKpsyfp9049"
      },
      "execution_count": 27,
      "outputs": []
    },
    {
      "cell_type": "code",
      "source": [
        "# Finds matches of a given team\n",
        "#\n",
        "# Return: matches (Pandas df)\n",
        "\n",
        "def FindTeamMatches(team_id):\n",
        "    gamefinder = leaguegamefinder.LeagueGameFinder(team_id_nullable=team_id, season_type_nullable=SeasonType.regular)\n",
        "    games = gamefinder.get_data_frames()[0]\n",
        "    return games"
      ],
      "metadata": {
        "id": "ZhOk8x0R-xzq"
      },
      "execution_count": 28,
      "outputs": []
    },
    {
      "cell_type": "code",
      "source": [
        "# Finds the wins and losses for a team in the given season\n",
        "#\n",
        "# Return: wins, losses\n",
        "\n",
        "def SeasonWinsAndLosses(team_abbreviation, season):\n",
        "    wins = 0\n",
        "    losses = 0\n",
        "\n",
        "    # Finds all of the matches of a given team\n",
        "    team_matches = FindTeamMatches(FindTeamId(team_abbreviation))\n",
        "    team_matches = team_matches[team_matches[\"SEASON_ID\"].str[-4:] == season]\n",
        "\n",
        "    for index, row in team_matches.iterrows():\n",
        "        if (row[\"WL\"] == \"W\"):\n",
        "            wins += 1\n",
        "        else:\n",
        "            losses += 1\n",
        "\n",
        "    return wins, losses\n",
        "\n",
        "# Finds the wins and losses for a team in the given season\n",
        "# until the given date (for searching ongoing season games)\n",
        "#\n",
        "# Return: wins, losses\n",
        "\n",
        "def SeasonWinsAndLossesWithDate(team_abbreviation, season, until_date):\n",
        "    wins = 0\n",
        "    losses = 0\n",
        "\n",
        "    # Finds all of the matches of a given team on the given season which are before until_date\n",
        "    team_matches = FindTeamMatches(FindTeamId(team_abbreviation))\n",
        "    team_matches = team_matches[team_matches[\"SEASON_ID\"].str[-4:] == season]\n",
        "    team_matches['GAME_DATE'] = pd.to_datetime(team_matches['GAME_DATE'], format='%Y-%m-%d')\n",
        "    team_matches = team_matches.loc[team_matches['GAME_DATE'] < until_date]\n",
        "\n",
        "    for index, row in team_matches.iterrows():\n",
        "        if (row[\"WL\"] == \"W\"):\n",
        "            wins += 1\n",
        "        else:\n",
        "            losses += 1\n",
        "\n",
        "\n",
        "    return wins, losses"
      ],
      "metadata": {
        "id": "EWYy7iXC6cd7"
      },
      "execution_count": 30,
      "outputs": []
    },
    {
      "cell_type": "code",
      "source": [
        "# Finds the nickname of a team with the given team_id\n",
        "#\n",
        "# Return: Team nickname\n",
        "\n",
        "def FindTeamNickname(team_id):\n",
        "    all_teams = teams.get_teams()\n",
        "    found = [team for team in all_teams if str(team[\"id\"]) == team_id][0]\n",
        "    team_nickname = found[\"nickname\"]\n",
        "\n",
        "    return team_nickname"
      ],
      "metadata": {
        "id": "j7sd2gUynybn"
      },
      "execution_count": 31,
      "outputs": []
    },
    {
      "cell_type": "code",
      "source": [
        "# Finds if the given team was on home court or away at the given game\n",
        "#\n",
        "# Return: 1 - home court, 0 - away court\n",
        "\n",
        "def FindHomeOrAway(team_abbreviation, game_id):\n",
        "    home_or_away = 0\n",
        "\n",
        "    game = winprobabilitypbp.WinProbabilityPBP(game_id=game_id, run_type=winprobabilitypbp.RunType.default)\n",
        "    game_data = game.game_info.data.get(\"data\")[0]\n",
        "\n",
        "    home_team_id = str(game_data[2])\n",
        "    team_id = teams_abbreviations.get(team_abbreviation)\n",
        "\n",
        "    if (home_team_id == team_id):\n",
        "        home_or_away = 1\n",
        "\n",
        "    return home_or_away"
      ],
      "metadata": {
        "id": "Z8W8DlGLczis"
      },
      "execution_count": 32,
      "outputs": []
    },
    {
      "cell_type": "code",
      "source": [
        "# Finds the first game between given dates\n",
        "# also finds if it was a home game or an away game\n",
        "#\n",
        "# Return (outcome): 1 - game was a win, 0 - game was a loss\n",
        "# Return (home_or_away): 1 - home game, 0 - away game\n",
        "\n",
        "def FindGameOutcome(team_abbreviation, season, start_date, end_date):\n",
        "    outcome = 0\n",
        "\n",
        "    team_matches = FindTeamMatches(FindTeamId(team_abbreviation))\n",
        "    team_matches = team_matches[team_matches[\"SEASON_ID\"].str[-4:] == season]\n",
        "    team_matches['GAME_DATE'] = pd.to_datetime(team_matches['GAME_DATE'], format='%Y-%m-%d')\n",
        "    team_matches = team_matches.loc[(team_matches['GAME_DATE'] >= start_date) &\n",
        "                                    (team_matches['GAME_DATE'] <= end_date)]\n",
        "\n",
        "    team_matches = team_matches.sort_values(by='GAME_DATE')\n",
        "\n",
        "    if (len(team_matches) == 0):\n",
        "        return None, None\n",
        "\n",
        "    first_match = team_matches.iloc[0]\n",
        "    game_id = str(first_match[\"GAME_ID\"])\n",
        "\n",
        "    if (first_match[\"WL\"] == \"W\"):\n",
        "        outcome = 1\n",
        "\n",
        "    home_or_away = FindHomeOrAway(team_abbreviation, game_id)\n",
        "\n",
        "    return outcome, home_or_away\n"
      ],
      "metadata": {
        "id": "VxFlLHIWwYN0"
      },
      "execution_count": 33,
      "outputs": []
    },
    {
      "cell_type": "code",
      "source": [
        "# To be implemented\n",
        "\n",
        "#def FindNextGameOutcome(team_abbreviation, team_matches, season)\n",
        "#game_outcome, home_or_away = FindGameOutcome(abbreviation, str(season), until_date, AddXDaysToTheDate(until_date, addition))"
      ],
      "metadata": {
        "id": "DMPV9Xf_wunZ"
      },
      "execution_count": 34,
      "outputs": []
    },
    {
      "cell_type": "code",
      "source": [
        "# Takes a string date and adds days to it\n",
        "#\n",
        "# Return: string date with the added days\n",
        "\n",
        "def AddXDaysToTheDate(given_date, addition):\n",
        "    date_obj = date.fromisoformat(given_date)\n",
        "    time_delta = timedelta(days=addition)\n",
        "    date_obj = date_obj + time_delta\n",
        "    changed_date = date.isoformat(date_obj)\n",
        "    return changed_date"
      ],
      "metadata": {
        "id": "HXwNQUO-1yVk"
      },
      "execution_count": null,
      "outputs": []
    },
    {
      "cell_type": "code",
      "source": [
        "# This is code for collecting data by teams.\n",
        "# This data is to be used in the future for the Machine Learning algorithms.\n",
        "# With this approach more data can be collected, because\n",
        "# all of the games found for every team is gathered.\n",
        "\n",
        "end_season = 2022\n",
        "\n",
        "# 2000 - 2022 interpreted teams = [\"ATL\", \"BOS\", \"CLE\"]\n",
        "# 2010 - 2022 interpreted teams = [\"DAL\", \"CHI\", \"NOP\"]\n",
        "\n",
        "for key in teams_abbreviations.keys():\n",
        "    if (key == \"ATL\" or key == \"BOS\" or key == \"CLE\" or key == \"DAL\" or key == \"CHI\" or key == \"NOP\"):\n",
        "        continue\n",
        "    final_df = pd.DataFrame()\n",
        "    season = 2010\n",
        "    while season <= end_season:\n",
        "        print(key, season)\n",
        "        try:\n",
        "            season_before_last_wins, season_before_last_losses = SeasonWinsAndLosses(key, str(season - 2))\n",
        "            if (season_before_last_wins == 0 or season_before_last_losses == 0):\n",
        "                season += 1\n",
        "                time.sleep(1)\n",
        "                continue\n",
        "            time.sleep(1)\n",
        "\n",
        "            previous_season_wins, previous_season_losses = SeasonWinsAndLosses(key, str(season - 1))\n",
        "            if (previous_season_wins == 0 or previous_season_losses == 0):\n",
        "                season += 1\n",
        "                time.sleep(1)\n",
        "                continue\n",
        "            time.sleep(1)\n",
        "\n",
        "            current_season_wins = []\n",
        "            current_season_losses = []\n",
        "            game_outcomes = []\n",
        "            home_or_aways = []\n",
        "\n",
        "            team_matches = FindTeamMatches(teams_abbreviations.get(key))\n",
        "            time.sleep(1)\n",
        "            team_matches = team_matches[team_matches[\"SEASON_ID\"].str[-4:] == str(season)]\n",
        "            team_matches = team_matches.sort_values(by='GAME_DATE')\n",
        "            i = 0\n",
        "\n",
        "            for index, row in team_matches.iterrows():\n",
        "                game_outcome = 0\n",
        "                game_id = str(row[\"GAME_ID\"])\n",
        "                home_or_away = FindHomeOrAway(key, game_id)\n",
        "                time.sleep(0.6)\n",
        "\n",
        "                home_or_aways.append(home_or_away)\n",
        "\n",
        "                if (row[\"WL\"] == \"W\"):\n",
        "                    game_outcome = 1\n",
        "\n",
        "                if (i == len(team_matches) - 1):\n",
        "                    game_outcomes.append(game_outcome)\n",
        "                    break\n",
        "\n",
        "                if (i == 0):\n",
        "                    current_season_wins.append(0)\n",
        "                    current_season_losses.append(0)\n",
        "                    if (game_outcome == 0):\n",
        "                        current_season_losses.append(current_season_losses[len(current_season_losses) - 1] + 1)\n",
        "                        current_season_wins.append(current_season_wins[len(current_season_wins) - 1])\n",
        "                    else:\n",
        "                        current_season_losses.append(current_season_losses[len(current_season_losses) - 1])\n",
        "                        current_season_wins.append(current_season_wins[len(current_season_wins) - 1] + 1)\n",
        "                else:\n",
        "                    if (game_outcome == 0):\n",
        "                        current_season_losses.append(current_season_losses[len(current_season_losses) - 1] + 1)\n",
        "                        current_season_wins.append(current_season_wins[len(current_season_wins) - 1])\n",
        "                    else:\n",
        "                        current_season_losses.append(current_season_losses[len(current_season_losses) - 1])\n",
        "                        current_season_wins.append(current_season_wins[len(current_season_wins) - 1] + 1)\n",
        "\n",
        "                i += 1\n",
        "                game_outcomes.append(game_outcome)\n",
        "\n",
        "        except TimeoutError:\n",
        "            time.sleep(5)\n",
        "            print(\"TIMEOUTERROR\")\n",
        "            continue\n",
        "\n",
        "        season += 1\n",
        "\n",
        "        df = pd.DataFrame()\n",
        "        df[\"current_season_wins\"] = current_season_wins\n",
        "        df[\"current_season_losses\"] = current_season_losses\n",
        "        df[\"previous_season_wins\"] = previous_season_wins\n",
        "        df[\"previous_season_losses\"] = previous_season_losses\n",
        "        df[\"season_before_last_wins\"] = season_before_last_wins\n",
        "        df[\"season_before_last_losses\"] = season_before_last_losses\n",
        "        df[\"game_outcome\"] = game_outcomes\n",
        "        df[\"home_or_away\"] = home_or_aways\n",
        "\n",
        "        out_file = f\"{key}_nba_games_data.csv\"\n",
        "        df.to_csv(out_file, sep=\"\\t\", encoding=\"utf-8\", mode=\"a\", header=False)\n",
        "    break"
      ],
      "metadata": {
        "id": "MX_c_mX1z5zD"
      },
      "execution_count": null,
      "outputs": []
    },
    {
      "cell_type": "code",
      "source": [
        "# This is code for collecting data by seasons\n",
        "# Currently this data is used on the Machine Learning algorithms\n",
        "\n",
        "# Season goes roughly from October to April\n",
        "\n",
        "# Covered seasons: 2002-2022, 1992-2002, 1982-1992\n",
        "\n",
        "season = 2019\n",
        "end_season = 2023\n",
        "\n",
        "addition = 12\n",
        "\n",
        "out_file = \"{0}_nba_games_testing.csv\".format(season)\n",
        "\n",
        "all_teams = teams.get_teams()\n",
        "all_teams_abbreviations = [team[\"abbreviation\"] for team in all_teams]\n",
        "\n",
        "i = 0\n",
        "\n",
        "while season <= end_season:\n",
        "    final_df = pd.DataFrame()\n",
        "    #until_date = str(season) + \"-11-01\"\n",
        "    final_date = date.fromisoformat(str(season + 1) + \"-04-01\")\n",
        "    print(season)\n",
        "\n",
        "    for abbreviation in all_teams_abbreviations:\n",
        "        until_date = str(season) + \"-11-01\"\n",
        "        #if (i == 1):\n",
        "        #    break\n",
        "        try:\n",
        "            season_before_last_wins, season_before_last_losses = SeasonWinsAndLosses(abbreviation, str(season - 2))\n",
        "            if (season_before_last_wins == 0 or season_before_last_losses == 0):\n",
        "                continue\n",
        "            time.sleep(0.6)\n",
        "\n",
        "            previous_season_wins, previous_season_losses = SeasonWinsAndLosses(abbreviation, str(season - 1))\n",
        "            if (previous_season_wins == 0 or previous_season_losses == 0):\n",
        "                continue\n",
        "            time.sleep(0.6)\n",
        "\n",
        "            current_season_wins = []\n",
        "            current_season_losses = []\n",
        "            game_outcomes = []\n",
        "            home_or_aways = []\n",
        "\n",
        "            while (date.fromisoformat(until_date) < final_date):\n",
        "                #time.sleep(0.6)\n",
        "                try:\n",
        "                    game_outcome, home_or_away = FindGameOutcome(abbreviation, str(season), until_date, AddXDaysToTheDate(until_date, addition))\n",
        "                except JSONDecodeError:\n",
        "                    until_date = AddXDaysToTheDate(until_date, addition)\n",
        "                    continue\n",
        "\n",
        "                if (game_outcome == None):\n",
        "                    until_date = AddXDaysToTheDate(until_date, addition)\n",
        "                    continue\n",
        "\n",
        "                current_season_win, current_season_loss = SeasonWinsAndLossesWithDate(abbreviation, str(season), until_date)\n",
        "                time.sleep(0.6)\n",
        "                #home_or_away = FindHomeOrAway(str(FindTeamId(abbreviation)), FindGameOutcome(abbreviation, str(season), until_date, AddXDaysToTheDate(until_date, addition)), season)\n",
        "                #print(home_or_away)\n",
        "\n",
        "                current_season_wins.append(current_season_win)\n",
        "                current_season_losses.append(current_season_loss)\n",
        "                game_outcomes.append(game_outcome)\n",
        "                home_or_aways.append(home_or_away)\n",
        "\n",
        "                until_date = AddXDaysToTheDate(until_date, addition)\n",
        "        except TimeoutError:\n",
        "            time.sleep(15)\n",
        "            continue\n",
        "\n",
        "        df = pd.DataFrame()\n",
        "        df[\"current_season_wins\"] = current_season_wins\n",
        "        df[\"current_season_losses\"] = current_season_losses\n",
        "        df[\"previous_season_wins\"] = previous_season_wins\n",
        "        df[\"previous_season_losses\"] = previous_season_losses\n",
        "        df[\"season_before_last_wins\"] = season_before_last_wins\n",
        "        df[\"season_before_last_losses\"] = season_before_last_losses\n",
        "        df[\"game_outcome\"] = game_outcomes\n",
        "        df[\"home_or_away\"] = home_or_aways\n",
        "\n",
        "        #final_df = final_df.append(df)\n",
        "        final_df = pd.concat([final_df, df], axis=0)\n",
        "        #i += 1\n",
        "\n",
        "    season += 1\n",
        "    final_df.to_csv(out_file, sep=\"\\t\", encoding='utf-8')\n",
        "    out_file = \"{0}_nba_games_testing.csv\".format(season)"
      ],
      "metadata": {
        "id": "h7V9J-8kPJfM"
      },
      "execution_count": null,
      "outputs": []
    }
  ]
}